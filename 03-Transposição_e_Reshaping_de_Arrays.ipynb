{
  "nbformat": 4,
  "nbformat_minor": 0,
  "metadata": {
    "anaconda-cloud": {},
    "kernelspec": {
      "display_name": "Python 3",
      "language": "python",
      "name": "python3"
    },
    "language_info": {
      "codemirror_mode": {
        "name": "ipython",
        "version": 3
      },
      "file_extension": ".py",
      "mimetype": "text/x-python",
      "name": "python",
      "nbconvert_exporter": "python",
      "pygments_lexer": "ipython3",
      "version": "3.8.5"
    },
    "colab": {
      "name": "03-Transposição e Reshaping de Arrays.ipynb",
      "provenance": [],
      "include_colab_link": true
    }
  },
  "cells": [
    {
      "cell_type": "markdown",
      "metadata": {
        "id": "view-in-github",
        "colab_type": "text"
      },
      "source": [
        "<a href=\"https://colab.research.google.com/github/lfilipeAndrade/Numpy/blob/main/03-Transposi%C3%A7%C3%A3o_e_Reshaping_de_Arrays.ipynb\" target=\"_parent\"><img src=\"https://colab.research.google.com/assets/colab-badge.svg\" alt=\"Open In Colab\"/></a>"
      ]
    },
    {
      "cell_type": "markdown",
      "metadata": {
        "id": "peOCdO-w8Nem"
      },
      "source": [
        "# Transposição e Reshaping de Arrays"
      ]
    },
    {
      "cell_type": "code",
      "metadata": {
        "id": "MYvO17xt8Nem"
      },
      "source": [
        "# Importando o módulo Numpy\n",
        "import numpy as np"
      ],
      "execution_count": null,
      "outputs": []
    },
    {
      "cell_type": "code",
      "metadata": {
        "id": "v_A_kcEu8Neo"
      },
      "source": [
        "array1 = np.array([[65, 23, 19], [41, 87, 10]])"
      ],
      "execution_count": null,
      "outputs": []
    },
    {
      "cell_type": "code",
      "metadata": {
        "id": "BPchBkRs8Neo",
        "outputId": "ab08a844-0358-4812-c744-ce68ae969654"
      },
      "source": [
        "array1"
      ],
      "execution_count": null,
      "outputs": [
        {
          "data": {
            "text/plain": [
              "array([[65, 23, 19],\n",
              "       [41, 87, 10]])"
            ]
          },
          "execution_count": 3,
          "metadata": {},
          "output_type": "execute_result"
        }
      ]
    },
    {
      "cell_type": "code",
      "metadata": {
        "id": "lgYlooI08Nep"
      },
      "source": [
        "array1.T"
      ],
      "execution_count": null,
      "outputs": []
    },
    {
      "cell_type": "code",
      "metadata": {
        "id": "tdHK3lK28Neq"
      },
      "source": [
        "np.transpose(array1)"
      ],
      "execution_count": null,
      "outputs": []
    },
    {
      "cell_type": "markdown",
      "metadata": {
        "id": "g2L9L5Jy8Neq"
      },
      "source": [
        "## Broadcasting"
      ]
    },
    {
      "cell_type": "code",
      "metadata": {
        "id": "rNjuFVXq8Ner"
      },
      "source": [
        "array2 = np.array([[33, 34, 35]])"
      ],
      "execution_count": null,
      "outputs": []
    },
    {
      "cell_type": "code",
      "metadata": {
        "id": "00X0RCMK8Nes"
      },
      "source": [
        "array2.T"
      ],
      "execution_count": null,
      "outputs": []
    },
    {
      "cell_type": "code",
      "metadata": {
        "id": "yR0c7kui8Net"
      },
      "source": [
        "array2.T + array2"
      ],
      "execution_count": null,
      "outputs": []
    },
    {
      "cell_type": "markdown",
      "metadata": {
        "id": "tqoOauQF8Net"
      },
      "source": [
        "## Transformando Matrizes em Arrays"
      ]
    },
    {
      "cell_type": "code",
      "metadata": {
        "id": "iJe8CPvk8Net"
      },
      "source": [
        "array3 = np.array([np.arange(1,6), np.arange(10,15)])"
      ],
      "execution_count": null,
      "outputs": []
    },
    {
      "cell_type": "code",
      "metadata": {
        "id": "WVLLvrZm8Neu"
      },
      "source": [
        "array3"
      ],
      "execution_count": null,
      "outputs": []
    },
    {
      "cell_type": "code",
      "metadata": {
        "id": "VDWh7R988Neu"
      },
      "source": [
        "array3.ravel()"
      ],
      "execution_count": null,
      "outputs": []
    },
    {
      "cell_type": "code",
      "metadata": {
        "id": "xMwZRWkm8Neu"
      },
      "source": [
        "array3.T.ravel()"
      ],
      "execution_count": null,
      "outputs": []
    },
    {
      "cell_type": "markdown",
      "metadata": {
        "id": "Nipo2hp48Nev"
      },
      "source": [
        "## Operadores Lógicos"
      ]
    },
    {
      "cell_type": "code",
      "metadata": {
        "id": "s8tbkCQ_8Nev"
      },
      "source": [
        "np.random.seed(100)\n",
        "array4 = np.random.randint(1, 10, size = (4,4))"
      ],
      "execution_count": null,
      "outputs": []
    },
    {
      "cell_type": "code",
      "metadata": {
        "id": "YXHh8WsD8Nev"
      },
      "source": [
        "array4"
      ],
      "execution_count": null,
      "outputs": []
    },
    {
      "cell_type": "code",
      "metadata": {
        "id": "fmvKRPYa8Nev"
      },
      "source": [
        "np.any((array4 % 7) == 0)"
      ],
      "execution_count": null,
      "outputs": []
    },
    {
      "cell_type": "code",
      "metadata": {
        "id": "F6f5f7Ef8New"
      },
      "source": [
        "np.all(array4 < 11)"
      ],
      "execution_count": null,
      "outputs": []
    },
    {
      "cell_type": "markdown",
      "metadata": {
        "id": "4eg1GAFV8New"
      },
      "source": [
        "## Reshaping"
      ]
    },
    {
      "cell_type": "code",
      "metadata": {
        "id": "wo31b0K68New"
      },
      "source": [
        "array5 = np.arange(1,16)"
      ],
      "execution_count": null,
      "outputs": []
    },
    {
      "cell_type": "code",
      "metadata": {
        "id": "oR-Vt5te8New"
      },
      "source": [
        "array5"
      ],
      "execution_count": null,
      "outputs": []
    },
    {
      "cell_type": "code",
      "metadata": {
        "id": "RWfUjkAL8Nex"
      },
      "source": [
        "array5.reshape(3, 5)"
      ],
      "execution_count": null,
      "outputs": []
    },
    {
      "cell_type": "markdown",
      "metadata": {
        "id": "VpsvgIm88Nex"
      },
      "source": [
        "# Ordenando o Array"
      ]
    },
    {
      "cell_type": "code",
      "metadata": {
        "id": "oLzle80X8Nex"
      },
      "source": [
        "array7 = np.array([[3,2],[10,-1]])"
      ],
      "execution_count": null,
      "outputs": []
    },
    {
      "cell_type": "code",
      "metadata": {
        "id": "wedMTDls8Nex"
      },
      "source": [
        "array7"
      ],
      "execution_count": null,
      "outputs": []
    },
    {
      "cell_type": "code",
      "metadata": {
        "id": "aPMHET6H8Nex"
      },
      "source": [
        "# Ordenando por linhas\n",
        "array7.sort(axis = 1)"
      ],
      "execution_count": null,
      "outputs": []
    },
    {
      "cell_type": "code",
      "metadata": {
        "id": "VgF3eANg8Nex"
      },
      "source": [
        "array7"
      ],
      "execution_count": null,
      "outputs": []
    },
    {
      "cell_type": "code",
      "metadata": {
        "id": "bGopv4NE8Ney"
      },
      "source": [
        "array8 = np.array([[3,2],[10,-1]])"
      ],
      "execution_count": null,
      "outputs": []
    },
    {
      "cell_type": "code",
      "metadata": {
        "id": "6QB9aXnq8Ney"
      },
      "source": [
        "array8"
      ],
      "execution_count": null,
      "outputs": []
    },
    {
      "cell_type": "code",
      "metadata": {
        "id": "BWiMjajT8Ney"
      },
      "source": [
        "# Ordenando por colunas\n",
        "array8.sort(axis = 0)"
      ],
      "execution_count": null,
      "outputs": []
    },
    {
      "cell_type": "code",
      "metadata": {
        "id": "OVSIi1ar8Ney"
      },
      "source": [
        "array8"
      ],
      "execution_count": null,
      "outputs": []
    },
    {
      "cell_type": "markdown",
      "metadata": {
        "collapsed": true,
        "id": "tjnn23oR8Ney"
      },
      "source": [
        "# Fim"
      ]
    }
  ]
}