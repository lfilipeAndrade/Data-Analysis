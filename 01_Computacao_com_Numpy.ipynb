{
  "nbformat": 4,
  "nbformat_minor": 0,
  "metadata": {
    "anaconda-cloud": {},
    "kernelspec": {
      "display_name": "Python [Root]",
      "language": "python",
      "name": "Python [Root]"
    },
    "language_info": {
      "codemirror_mode": {
        "name": "ipython",
        "version": 3
      },
      "file_extension": ".py",
      "mimetype": "text/x-python",
      "name": "python",
      "nbconvert_exporter": "python",
      "pygments_lexer": "ipython3",
      "version": "3.5.2"
    },
    "colab": {
      "name": "01-Computacao com Numpy.ipynb",
      "provenance": [],
      "include_colab_link": true
    }
  },
  "cells": [
    {
      "cell_type": "markdown",
      "metadata": {
        "id": "view-in-github",
        "colab_type": "text"
      },
      "source": [
        "<a href=\"https://colab.research.google.com/github/lfilipeAndrade/Data-Analysis/blob/main/01_Computacao_com_Numpy.ipynb\" target=\"_parent\"><img src=\"https://colab.research.google.com/assets/colab-badge.svg\" alt=\"Open In Colab\"/></a>"
      ]
    },
    {
      "cell_type": "markdown",
      "metadata": {
        "id": "H6unzfH-6whK"
      },
      "source": [
        "## Computação com Numpy"
      ]
    },
    {
      "cell_type": "code",
      "metadata": {
        "collapsed": true,
        "id": "bS6I801O6whL"
      },
      "source": [
        "# Importando o módulo Numpy\n",
        "import numpy as np"
      ],
      "execution_count": null,
      "outputs": []
    },
    {
      "cell_type": "markdown",
      "metadata": {
        "id": "DUqL5I2b6whM"
      },
      "source": [
        "<h2>Criando Estruturas de Dados NumPy</h2>"
      ]
    },
    {
      "cell_type": "code",
      "metadata": {
        "id": "IUGMbYfQ6whM"
      },
      "source": [
        "# Criando array unidimensional\n",
        "array1 = np.array([10, 20, 30, 40]) "
      ],
      "execution_count": null,
      "outputs": []
    },
    {
      "cell_type": "code",
      "metadata": {
        "collapsed": true,
        "id": "r9_6oASM6whN"
      },
      "source": [
        "# Criando array bi-dimensional\n",
        "array2 = np.array([[100, 83, 15],[42, 78, 0]]) "
      ],
      "execution_count": null,
      "outputs": []
    },
    {
      "cell_type": "code",
      "metadata": {
        "id": "klvq-cXl6whO",
        "outputId": "1e3c6523-5ea9-41de-f065-b86a0a1bc60d"
      },
      "source": [
        "array1"
      ],
      "execution_count": null,
      "outputs": [
        {
          "data": {
            "text/plain": [
              "array([10, 20, 30, 40])"
            ]
          },
          "execution_count": 4,
          "metadata": {},
          "output_type": "execute_result"
        }
      ]
    },
    {
      "cell_type": "code",
      "metadata": {
        "id": "owbMy4f26whP",
        "outputId": "ec0bf799-aea3-4dd8-e7ee-e0f6ba2d2eb2"
      },
      "source": [
        "array2"
      ],
      "execution_count": null,
      "outputs": [
        {
          "data": {
            "text/plain": [
              "array([[100,  83,  15],\n",
              "       [ 42,  78,   0]])"
            ]
          },
          "execution_count": 5,
          "metadata": {},
          "output_type": "execute_result"
        }
      ]
    },
    {
      "cell_type": "code",
      "metadata": {
        "id": "2FKcuSzV6whP",
        "outputId": "a462531f-7805-44f4-eb2d-d188b982440b"
      },
      "source": [
        "# Verificando o formato (shape) do array\n",
        "array1.shape"
      ],
      "execution_count": null,
      "outputs": [
        {
          "data": {
            "text/plain": [
              "(4,)"
            ]
          },
          "execution_count": 6,
          "metadata": {},
          "output_type": "execute_result"
        }
      ]
    },
    {
      "cell_type": "code",
      "metadata": {
        "id": "wB83cNUq6whQ",
        "outputId": "bae068c0-d24c-41f9-d06f-c960e7878faf"
      },
      "source": [
        "# Verificando o formato (shape) do array\n",
        "array2.shape"
      ],
      "execution_count": null,
      "outputs": [
        {
          "data": {
            "text/plain": [
              "(2, 3)"
            ]
          },
          "execution_count": 7,
          "metadata": {},
          "output_type": "execute_result"
        }
      ]
    },
    {
      "cell_type": "code",
      "metadata": {
        "id": "WdSAyWxN6whQ",
        "outputId": "6b6f45f8-ff24-4661-ca48-cefa5446ab47"
      },
      "source": [
        "# Verificando o número de dimensões\n",
        "array2.ndim"
      ],
      "execution_count": null,
      "outputs": [
        {
          "data": {
            "text/plain": [
              "2"
            ]
          },
          "execution_count": 8,
          "metadata": {},
          "output_type": "execute_result"
        }
      ]
    },
    {
      "cell_type": "markdown",
      "metadata": {
        "id": "CicqXUa36whR"
      },
      "source": [
        "<h2>Em Python TUDO é objeto, com métodos e atributos</h2>\n",
        "\n",
        "### Método - realiza ação no objeto\n",
        "### Atributo - característica do objeto"
      ]
    },
    {
      "cell_type": "code",
      "metadata": {
        "id": "Dum4zsPd6whR",
        "outputId": "a4ec8b2e-a74a-4e6c-ab5d-9241df5c99f0"
      },
      "source": [
        "# Método\n",
        "array2.max()"
      ],
      "execution_count": null,
      "outputs": [
        {
          "data": {
            "text/plain": [
              "100"
            ]
          },
          "execution_count": 9,
          "metadata": {},
          "output_type": "execute_result"
        }
      ]
    },
    {
      "cell_type": "code",
      "metadata": {
        "id": "02n8wwiI6whS",
        "outputId": "73a1b04d-2d47-42cd-e00f-e6ff02b6a326"
      },
      "source": [
        "# Atributo\n",
        "array2.ndim"
      ],
      "execution_count": null,
      "outputs": [
        {
          "data": {
            "text/plain": [
              "2"
            ]
          },
          "execution_count": 10,
          "metadata": {},
          "output_type": "execute_result"
        }
      ]
    },
    {
      "cell_type": "markdown",
      "metadata": {
        "id": "HUsMZoI46whS"
      },
      "source": [
        "<h2>Criando estruturas de dados com arange</h2>"
      ]
    },
    {
      "cell_type": "code",
      "metadata": {
        "id": "n3dEFQy66whS"
      },
      "source": [
        "array3 = np.arange(15)"
      ],
      "execution_count": null,
      "outputs": []
    },
    {
      "cell_type": "code",
      "metadata": {
        "id": "PTUduQW26whT",
        "outputId": "b3aba66a-d56f-493a-b80a-eff4a2aaf9a5"
      },
      "source": [
        "array3"
      ],
      "execution_count": null,
      "outputs": [
        {
          "data": {
            "text/plain": [
              "array([ 0,  1,  2,  3,  4,  5,  6,  7,  8,  9, 10, 11, 12, 13, 14])"
            ]
          },
          "execution_count": 12,
          "metadata": {},
          "output_type": "execute_result"
        }
      ]
    },
    {
      "cell_type": "code",
      "metadata": {
        "id": "nsUclzL76whT"
      },
      "source": [
        "# Usando start/end (exclusive)\n",
        "array4 = np.arange(0, 15, 5)"
      ],
      "execution_count": null,
      "outputs": []
    },
    {
      "cell_type": "code",
      "metadata": {
        "id": "kD84MWJr6whT",
        "outputId": "618b7828-ae8f-4624-d647-1b57a8c3bcdc"
      },
      "source": [
        "array4"
      ],
      "execution_count": null,
      "outputs": [
        {
          "data": {
            "text/plain": [
              "array([ 0,  5, 10])"
            ]
          },
          "execution_count": 15,
          "metadata": {},
          "output_type": "execute_result"
        }
      ]
    },
    {
      "cell_type": "markdown",
      "metadata": {
        "id": "i5CimnHt6whU"
      },
      "source": [
        "<h2>Criando estruturas de dados com linspace</h2>"
      ]
    },
    {
      "cell_type": "code",
      "metadata": {
        "id": "KLL9uGug6whU",
        "outputId": "ef4fb7ee-ff13-45b4-fe27-921303ec26f8"
      },
      "source": [
        "# Argumentos: (start, end, number of elements)\n",
        "array5 = np.linspace(0, 3, 4); array5"
      ],
      "execution_count": null,
      "outputs": [
        {
          "data": {
            "text/plain": [
              "array([ 0.,  1.,  2.,  3.])"
            ]
          },
          "execution_count": 16,
          "metadata": {},
          "output_type": "execute_result"
        }
      ]
    },
    {
      "cell_type": "markdown",
      "metadata": {
        "id": "7bYNVQhi6whU"
      },
      "source": [
        "<h2>Criando estruturas de dados com outras funções</h2>"
      ]
    },
    {
      "cell_type": "markdown",
      "metadata": {
        "id": "kEM3Ug5I6whU"
      },
      "source": [
        "<h3>numpy.zeros</h3>"
      ]
    },
    {
      "cell_type": "code",
      "metadata": {
        "id": "9nkr2yyd6whU",
        "outputId": "9b86701f-c3c1-4e8f-8536-1ac0587aac5f"
      },
      "source": [
        "# Array 10x8 de zeros\n",
        "array6 = np.zeros((10, 8)); array6"
      ],
      "execution_count": null,
      "outputs": [
        {
          "data": {
            "text/plain": [
              "array([[ 0.,  0.,  0.,  0.,  0.,  0.,  0.,  0.],\n",
              "       [ 0.,  0.,  0.,  0.,  0.,  0.,  0.,  0.],\n",
              "       [ 0.,  0.,  0.,  0.,  0.,  0.,  0.,  0.],\n",
              "       [ 0.,  0.,  0.,  0.,  0.,  0.,  0.,  0.],\n",
              "       [ 0.,  0.,  0.,  0.,  0.,  0.,  0.,  0.],\n",
              "       [ 0.,  0.,  0.,  0.,  0.,  0.,  0.,  0.],\n",
              "       [ 0.,  0.,  0.,  0.,  0.,  0.,  0.,  0.],\n",
              "       [ 0.,  0.,  0.,  0.,  0.,  0.,  0.,  0.],\n",
              "       [ 0.,  0.,  0.,  0.,  0.,  0.,  0.,  0.],\n",
              "       [ 0.,  0.,  0.,  0.,  0.,  0.,  0.,  0.]])"
            ]
          },
          "execution_count": 17,
          "metadata": {},
          "output_type": "execute_result"
        }
      ]
    },
    {
      "cell_type": "markdown",
      "metadata": {
        "id": "8Pp3bdIo6whV"
      },
      "source": [
        "<h3>numpy.ones</h3>"
      ]
    },
    {
      "cell_type": "code",
      "metadata": {
        "id": "lLf6bJ7z6whV",
        "outputId": "211180c6-bfdb-44b5-8f14-1510b5c5aa07"
      },
      "source": [
        "# Array 2x3x2 de 1's\n",
        "array7 = np.ones((2, 3, 2)); array7"
      ],
      "execution_count": null,
      "outputs": [
        {
          "data": {
            "text/plain": [
              "array([[[ 1.,  1.],\n",
              "        [ 1.,  1.],\n",
              "        [ 1.,  1.]],\n",
              "\n",
              "       [[ 1.,  1.],\n",
              "        [ 1.,  1.],\n",
              "        [ 1.,  1.]]])"
            ]
          },
          "execution_count": 18,
          "metadata": {},
          "output_type": "execute_result"
        }
      ]
    },
    {
      "cell_type": "markdown",
      "metadata": {
        "collapsed": true,
        "id": "7dW1UgSD6whV"
      },
      "source": [
        "<h3>numpy.eye</h3>"
      ]
    },
    {
      "cell_type": "code",
      "metadata": {
        "id": "EKhRUpQc6whV",
        "outputId": "9f3f6f97-f474-4b39-c4e8-c5e2f466e1b5"
      },
      "source": [
        "# Produz uma Identitiy Matrix \n",
        "array8 = np.eye(3); array8"
      ],
      "execution_count": null,
      "outputs": [
        {
          "data": {
            "text/plain": [
              "array([[ 1.,  0.,  0.],\n",
              "       [ 0.,  1.,  0.],\n",
              "       [ 0.,  0.,  1.]])"
            ]
          },
          "execution_count": 19,
          "metadata": {},
          "output_type": "execute_result"
        }
      ]
    },
    {
      "cell_type": "markdown",
      "metadata": {
        "id": "p2LND8Tb6whW"
      },
      "source": [
        "<h3>numpy.diag</h3>"
      ]
    },
    {
      "cell_type": "code",
      "metadata": {
        "id": "soebQm6d6whW",
        "outputId": "73230a18-447e-415e-95bb-2d20b7153678"
      },
      "source": [
        "# Matriz diagonal\n",
        "array9 = np.diag((2,1,4,6)); array9"
      ],
      "execution_count": null,
      "outputs": [
        {
          "data": {
            "text/plain": [
              "array([[2, 0, 0, 0],\n",
              "       [0, 1, 0, 0],\n",
              "       [0, 0, 4, 0],\n",
              "       [0, 0, 0, 6]])"
            ]
          },
          "execution_count": 20,
          "metadata": {},
          "output_type": "execute_result"
        }
      ]
    },
    {
      "cell_type": "markdown",
      "metadata": {
        "collapsed": false,
        "id": "U_eZGCSi6whW"
      },
      "source": [
        "<h3>numpy.random.rand</h3>"
      ]
    },
    {
      "cell_type": "code",
      "metadata": {
        "id": "v_C3xvsr6whW",
        "outputId": "91bdc83d-7d1a-44fe-d337-69336cb090c2"
      },
      "source": [
        "# A função rand(n) produz uma sequência de números uniformemente distirbuídos com range de 0 a n\n",
        "np.random.seed(100) # Set seed\n",
        "array10 = np.random.rand(5); array10"
      ],
      "execution_count": null,
      "outputs": [
        {
          "data": {
            "text/plain": [
              "array([ 0.54340494,  0.27836939,  0.42451759,  0.84477613,  0.00471886])"
            ]
          },
          "execution_count": 21,
          "metadata": {},
          "output_type": "execute_result"
        }
      ]
    },
    {
      "cell_type": "code",
      "metadata": {
        "id": "o6Sz5Rnt6whW",
        "outputId": "36338bdb-8303-47b3-b73f-d3f468c7f891"
      },
      "source": [
        "# A função randn(n) produz uma sequência de números com distribuição normal (Gaussian)\n",
        "array11 = np.random.randn(5); array11"
      ],
      "execution_count": null,
      "outputs": [
        {
          "data": {
            "text/plain": [
              "array([ 0.35467445, -0.78606433, -0.2318722 ,  0.20797568,  0.93580797])"
            ]
          },
          "execution_count": 22,
          "metadata": {},
          "output_type": "execute_result"
        }
      ]
    },
    {
      "cell_type": "markdown",
      "metadata": {
        "id": "cWyGNTkc6whX"
      },
      "source": [
        "<h3>numpy.empty</h3>"
      ]
    },
    {
      "cell_type": "code",
      "metadata": {
        "id": "XTYpcYq56whX",
        "outputId": "10b3d99a-8d9c-490f-e9e9-094526edb558"
      },
      "source": [
        "array12 = np.empty((3,2)); array12"
      ],
      "execution_count": null,
      "outputs": [
        {
          "data": {
            "text/plain": [
              "array([[ 0.,  0.],\n",
              "       [ 0.,  0.],\n",
              "       [ 0.,  0.]])"
            ]
          },
          "execution_count": 23,
          "metadata": {},
          "output_type": "execute_result"
        }
      ]
    },
    {
      "cell_type": "markdown",
      "metadata": {
        "id": "-FhyO4M46whX"
      },
      "source": [
        "<h3>numpy.tile</h3>"
      ]
    },
    {
      "cell_type": "code",
      "metadata": {
        "id": "Fo7r0cim6whX",
        "outputId": "1971e377-0eea-49c1-de19-e1c918964f5f"
      },
      "source": [
        "np.array([[9, 4], [3, 7]])"
      ],
      "execution_count": null,
      "outputs": [
        {
          "data": {
            "text/plain": [
              "array([[9, 4],\n",
              "       [3, 7]])"
            ]
          },
          "execution_count": 24,
          "metadata": {},
          "output_type": "execute_result"
        }
      ]
    },
    {
      "cell_type": "code",
      "metadata": {
        "id": "ast3SL-Z6whX",
        "outputId": "3db949f0-9eb6-40a5-f5dc-c1a2789bf693"
      },
      "source": [
        "np.tile(np.array([[9, 4], [3, 7]]), 4)"
      ],
      "execution_count": null,
      "outputs": [
        {
          "data": {
            "text/plain": [
              "array([[9, 4, 9, 4, 9, 4, 9, 4],\n",
              "       [3, 7, 3, 7, 3, 7, 3, 7]])"
            ]
          },
          "execution_count": 25,
          "metadata": {},
          "output_type": "execute_result"
        }
      ]
    },
    {
      "cell_type": "code",
      "metadata": {
        "id": "2UbiSDL66whY",
        "outputId": "cdbd686b-5daf-4024-c642-761b3ad02897"
      },
      "source": [
        "np.tile(np.array([[9, 4], [3, 7]]), (2,2))"
      ],
      "execution_count": null,
      "outputs": [
        {
          "data": {
            "text/plain": [
              "array([[9, 4, 9, 4],\n",
              "       [3, 7, 3, 7],\n",
              "       [9, 4, 9, 4],\n",
              "       [3, 7, 3, 7]])"
            ]
          },
          "execution_count": 26,
          "metadata": {},
          "output_type": "execute_result"
        }
      ]
    },
    {
      "cell_type": "markdown",
      "metadata": {
        "id": "RL4BTl8G6whY"
      },
      "source": [
        "<h2>Tipos de Dados NumPy</h2>"
      ]
    },
    {
      "cell_type": "code",
      "metadata": {
        "id": "-345fR4g6whY"
      },
      "source": [
        "array13 = np.array([8, -3, 5, 9], dtype = 'float')"
      ],
      "execution_count": null,
      "outputs": []
    },
    {
      "cell_type": "code",
      "metadata": {
        "id": "PjBPmwnX6whY",
        "outputId": "33b19f07-c51f-43bd-a1d7-f6c78394a0cc"
      },
      "source": [
        "array13"
      ],
      "execution_count": null,
      "outputs": [
        {
          "data": {
            "text/plain": [
              "array([ 8., -3.,  5.,  9.])"
            ]
          },
          "execution_count": 28,
          "metadata": {},
          "output_type": "execute_result"
        }
      ]
    },
    {
      "cell_type": "code",
      "metadata": {
        "id": "3H2eNHIl6whY",
        "outputId": "ff48215d-f213-4ed6-f339-ff9544defa18"
      },
      "source": [
        "array13.dtype"
      ],
      "execution_count": null,
      "outputs": [
        {
          "data": {
            "text/plain": [
              "dtype('float64')"
            ]
          },
          "execution_count": 29,
          "metadata": {},
          "output_type": "execute_result"
        }
      ]
    },
    {
      "cell_type": "code",
      "metadata": {
        "id": "zjg_zTOz6whY"
      },
      "source": [
        "array14 = np.array([2, 4, 6, 8])"
      ],
      "execution_count": null,
      "outputs": []
    },
    {
      "cell_type": "code",
      "metadata": {
        "id": "pHgt1k8Y6whZ",
        "outputId": "095144bf-5042-4aae-a47c-e0575dd2f294"
      },
      "source": [
        "array14"
      ],
      "execution_count": null,
      "outputs": [
        {
          "data": {
            "text/plain": [
              "array([2, 4, 6, 8])"
            ]
          },
          "execution_count": 31,
          "metadata": {},
          "output_type": "execute_result"
        }
      ]
    },
    {
      "cell_type": "code",
      "metadata": {
        "id": "-9u5AsQd6whZ",
        "outputId": "eda75bfe-042b-431c-f49a-21ba3f3ba2b5"
      },
      "source": [
        "array14.dtype"
      ],
      "execution_count": null,
      "outputs": [
        {
          "data": {
            "text/plain": [
              "dtype('int64')"
            ]
          },
          "execution_count": 32,
          "metadata": {},
          "output_type": "execute_result"
        }
      ]
    },
    {
      "cell_type": "code",
      "metadata": {
        "id": "PgYbYQzY6whZ"
      },
      "source": [
        "array15 = np.array([2.0, 4, 6, 8])"
      ],
      "execution_count": null,
      "outputs": []
    },
    {
      "cell_type": "code",
      "metadata": {
        "id": "aXL383o86whZ",
        "outputId": "90ae21db-fc9d-43b6-dc79-2eecc253c415"
      },
      "source": [
        "array15.dtype"
      ],
      "execution_count": null,
      "outputs": [
        {
          "data": {
            "text/plain": [
              "dtype('float64')"
            ]
          },
          "execution_count": 34,
          "metadata": {},
          "output_type": "execute_result"
        }
      ]
    },
    {
      "cell_type": "code",
      "metadata": {
        "id": "gIx8lS876whZ"
      },
      "source": [
        "array16 = np.array(['Análise','de','Dados','com Python'])"
      ],
      "execution_count": null,
      "outputs": []
    },
    {
      "cell_type": "code",
      "metadata": {
        "id": "iHXCuqXE6whZ",
        "outputId": "ecee9a94-03cd-4213-8699-d767b74d1473"
      },
      "source": [
        "array16.dtype"
      ],
      "execution_count": null,
      "outputs": [
        {
          "data": {
            "text/plain": [
              "dtype('<U10')"
            ]
          },
          "execution_count": 36,
          "metadata": {},
          "output_type": "execute_result"
        }
      ]
    },
    {
      "cell_type": "code",
      "metadata": {
        "id": "Yh8Y61GA6whZ"
      },
      "source": [
        "array17 = np.array([True, False, True])"
      ],
      "execution_count": null,
      "outputs": []
    },
    {
      "cell_type": "code",
      "metadata": {
        "id": "anKClfkV6wha",
        "outputId": "edb66cc2-5561-4cbe-cb33-3df1cf51419d"
      },
      "source": [
        "array17.dtype"
      ],
      "execution_count": null,
      "outputs": [
        {
          "data": {
            "text/plain": [
              "dtype('bool')"
            ]
          },
          "execution_count": 38,
          "metadata": {},
          "output_type": "execute_result"
        }
      ]
    },
    {
      "cell_type": "code",
      "metadata": {
        "id": "drU18Tlg6wha"
      },
      "source": [
        "array18 = np.array([7, -3, 5.24])"
      ],
      "execution_count": null,
      "outputs": []
    },
    {
      "cell_type": "code",
      "metadata": {
        "id": "8QgzZutT6wha",
        "outputId": "16565da3-6983-43e8-8ad4-0a0b9ca4c7ed"
      },
      "source": [
        "array18.dtype"
      ],
      "execution_count": null,
      "outputs": [
        {
          "data": {
            "text/plain": [
              "dtype('float64')"
            ]
          },
          "execution_count": 40,
          "metadata": {},
          "output_type": "execute_result"
        }
      ]
    },
    {
      "cell_type": "code",
      "metadata": {
        "id": "mTccXeQy6wha",
        "outputId": "f64959e3-bd8c-4723-a484-6af97100cc06"
      },
      "source": [
        "array18.astype(int)"
      ],
      "execution_count": null,
      "outputs": [
        {
          "data": {
            "text/plain": [
              "array([ 7, -3,  5])"
            ]
          },
          "execution_count": 41,
          "metadata": {},
          "output_type": "execute_result"
        }
      ]
    },
    {
      "cell_type": "markdown",
      "metadata": {
        "id": "qCJNMYdt6whb"
      },
      "source": [
        "<h2>Operações com Arrays</h2>"
      ]
    },
    {
      "cell_type": "code",
      "metadata": {
        "collapsed": true,
        "id": "KkT_zwkg6whb"
      },
      "source": [
        "# Array começando por 0, com 30 elementos e multiplicado po 5\n",
        "array19 = np.arange(0, 30) * 5"
      ],
      "execution_count": null,
      "outputs": []
    },
    {
      "cell_type": "code",
      "metadata": {
        "id": "Z7sKbEv16whb",
        "outputId": "89efc537-6f25-48f7-e08d-84d75e75d8e6"
      },
      "source": [
        "array19"
      ],
      "execution_count": null,
      "outputs": [
        {
          "data": {
            "text/plain": [
              "array([  0,   5,  10,  15,  20,  25,  30,  35,  40,  45,  50,  55,  60,\n",
              "        65,  70,  75,  80,  85,  90,  95, 100, 105, 110, 115, 120, 125,\n",
              "       130, 135, 140, 145])"
            ]
          },
          "execution_count": 43,
          "metadata": {},
          "output_type": "execute_result"
        }
      ]
    },
    {
      "cell_type": "code",
      "metadata": {
        "collapsed": true,
        "id": "7eDJ46ad6whb"
      },
      "source": [
        "array19 = np.arange(0, 30)"
      ],
      "execution_count": null,
      "outputs": []
    },
    {
      "cell_type": "code",
      "metadata": {
        "id": "Kxczg3GO6whb",
        "outputId": "cdc0d7e3-91ed-4145-87c6-0f7ffd21bbf8"
      },
      "source": [
        "array19"
      ],
      "execution_count": null,
      "outputs": [
        {
          "data": {
            "text/plain": [
              "array([ 0,  1,  2,  3,  4,  5,  6,  7,  8,  9, 10, 11, 12, 13, 14, 15, 16,\n",
              "       17, 18, 19, 20, 21, 22, 23, 24, 25, 26, 27, 28, 29])"
            ]
          },
          "execution_count": 45,
          "metadata": {},
          "output_type": "execute_result"
        }
      ]
    },
    {
      "cell_type": "code",
      "metadata": {
        "collapsed": true,
        "id": "b6XafPoC6whb"
      },
      "source": [
        "# Elevando um array a potência\n",
        "array20 = np.arange(5) ** 4"
      ],
      "execution_count": null,
      "outputs": []
    },
    {
      "cell_type": "code",
      "metadata": {
        "id": "oRBWMOJa6whc",
        "outputId": "05ded37f-7db4-42b8-e035-a9c75b595e82"
      },
      "source": [
        "array20"
      ],
      "execution_count": null,
      "outputs": [
        {
          "data": {
            "text/plain": [
              "array([  0,   1,  16,  81, 256])"
            ]
          },
          "execution_count": 47,
          "metadata": {},
          "output_type": "execute_result"
        }
      ]
    },
    {
      "cell_type": "code",
      "metadata": {
        "collapsed": true,
        "id": "toTBIDHt6whc"
      },
      "source": [
        "# Somando um número a cada elemento do array\n",
        "array21 = np.arange(0, 30) + 1"
      ],
      "execution_count": null,
      "outputs": []
    },
    {
      "cell_type": "code",
      "metadata": {
        "id": "JRCkW-R-6whc",
        "outputId": "eb29ad3f-affd-461d-e2eb-e62dd59834b3"
      },
      "source": [
        "array21"
      ],
      "execution_count": null,
      "outputs": [
        {
          "data": {
            "text/plain": [
              "array([ 1,  2,  3,  4,  5,  6,  7,  8,  9, 10, 11, 12, 13, 14, 15, 16, 17,\n",
              "       18, 19, 20, 21, 22, 23, 24, 25, 26, 27, 28, 29, 30])"
            ]
          },
          "execution_count": 49,
          "metadata": {},
          "output_type": "execute_result"
        }
      ]
    },
    {
      "cell_type": "code",
      "metadata": {
        "collapsed": true,
        "id": "J12G_sz36whc"
      },
      "source": [
        "array22 = np.arange(0, 30,3) + 3\n",
        "array23 = np.arange(1,11)"
      ],
      "execution_count": null,
      "outputs": []
    },
    {
      "cell_type": "code",
      "metadata": {
        "id": "85BGmbbd6whc",
        "outputId": "8d4cb822-7ca3-43be-fae8-b126dff3e077"
      },
      "source": [
        "array22"
      ],
      "execution_count": null,
      "outputs": [
        {
          "data": {
            "text/plain": [
              "array([ 3,  6,  9, 12, 15, 18, 21, 24, 27, 30])"
            ]
          },
          "execution_count": 51,
          "metadata": {},
          "output_type": "execute_result"
        }
      ]
    },
    {
      "cell_type": "code",
      "metadata": {
        "id": "vh97zs5f6whc",
        "outputId": "759644cc-757d-4321-f8bd-2b4aeab0146b"
      },
      "source": [
        "array23"
      ],
      "execution_count": null,
      "outputs": [
        {
          "data": {
            "text/plain": [
              "array([ 1,  2,  3,  4,  5,  6,  7,  8,  9, 10])"
            ]
          },
          "execution_count": 52,
          "metadata": {},
          "output_type": "execute_result"
        }
      ]
    },
    {
      "cell_type": "code",
      "metadata": {
        "id": "dz1VkLzO6whd",
        "outputId": "6e499cd3-af47-4079-c84d-314e2eb07c01"
      },
      "source": [
        "# Subtração\n",
        "array22 - array23"
      ],
      "execution_count": null,
      "outputs": [
        {
          "data": {
            "text/plain": [
              "array([ 2,  4,  6,  8, 10, 12, 14, 16, 18, 20])"
            ]
          },
          "execution_count": 53,
          "metadata": {},
          "output_type": "execute_result"
        }
      ]
    },
    {
      "cell_type": "code",
      "metadata": {
        "id": "t13PzD-06whd",
        "outputId": "8db3febe-eba5-4da9-a400-12595f97a395"
      },
      "source": [
        "# Soma\n",
        "array22 + array23"
      ],
      "execution_count": null,
      "outputs": [
        {
          "data": {
            "text/plain": [
              "array([ 4,  8, 12, 16, 20, 24, 28, 32, 36, 40])"
            ]
          },
          "execution_count": 54,
          "metadata": {},
          "output_type": "execute_result"
        }
      ]
    },
    {
      "cell_type": "code",
      "metadata": {
        "id": "hEwH1Iks6whd",
        "outputId": "0d2147d9-34f6-490c-b50a-3c6e81a060a0"
      },
      "source": [
        "# Divisão\n",
        "array22 / array23"
      ],
      "execution_count": null,
      "outputs": [
        {
          "data": {
            "text/plain": [
              "array([ 3.,  3.,  3.,  3.,  3.,  3.,  3.,  3.,  3.,  3.])"
            ]
          },
          "execution_count": 55,
          "metadata": {},
          "output_type": "execute_result"
        }
      ]
    },
    {
      "cell_type": "code",
      "metadata": {
        "id": "j7egNRbp6whd",
        "outputId": "cc208936-7f86-4c8e-e101-9ce584927703"
      },
      "source": [
        "# Multiplicação\n",
        "array22 * array23"
      ],
      "execution_count": null,
      "outputs": [
        {
          "data": {
            "text/plain": [
              "array([  3,  12,  27,  48,  75, 108, 147, 192, 243, 300])"
            ]
          },
          "execution_count": 56,
          "metadata": {},
          "output_type": "execute_result"
        }
      ]
    },
    {
      "cell_type": "code",
      "metadata": {
        "id": "rP_tmGNx6whd",
        "outputId": "7cc8297e-6d59-47bd-d1ba-8dee24dd4804"
      },
      "source": [
        "# Podemos ainda comprar arrays\n",
        "array22 > array23"
      ],
      "execution_count": null,
      "outputs": [
        {
          "data": {
            "text/plain": [
              "array([ True,  True,  True,  True,  True,  True,  True,  True,  True,  True], dtype=bool)"
            ]
          },
          "execution_count": 57,
          "metadata": {},
          "output_type": "execute_result"
        }
      ]
    },
    {
      "cell_type": "code",
      "metadata": {
        "id": "1QNLvAn06whd",
        "outputId": "ea797799-e944-458d-843d-e278acf568c6"
      },
      "source": [
        "arr1 = np.array([True,False,True,False])\n",
        "arr2 = np.array([False,False,True, False])\n",
        "np.logical_and(arr1, arr2)"
      ],
      "execution_count": null,
      "outputs": [
        {
          "data": {
            "text/plain": [
              "array([False, False,  True, False], dtype=bool)"
            ]
          },
          "execution_count": 58,
          "metadata": {},
          "output_type": "execute_result"
        }
      ]
    },
    {
      "cell_type": "markdown",
      "metadata": {
        "id": "_0KKxAOb6whe"
      },
      "source": [
        "### Podemos criar arrays com Python, sem usar o módulo NumPy. Porém o NumPy é muito mais rápido"
      ]
    },
    {
      "cell_type": "code",
      "metadata": {
        "id": "_JL2iNXt6whe",
        "outputId": "6df9d64e-8ea3-4838-9a4d-f86d2470bbaa"
      },
      "source": [
        "array_numpy = np.arange(1000)\n",
        "%timeit array_numpy ** 4"
      ],
      "execution_count": null,
      "outputs": [
        {
          "name": "stdout",
          "output_type": "stream",
          "text": [
            "10000 loops, best of 3: 43 µs per loop\n"
          ]
        }
      ]
    },
    {
      "cell_type": "code",
      "metadata": {
        "id": "-EmAmKCa6whe",
        "outputId": "649077f4-765e-451c-8997-693e36db9e06"
      },
      "source": [
        "array_python = range(1000)\n",
        "%timeit [array_python[i] ** 4 for i in array_python]"
      ],
      "execution_count": null,
      "outputs": [
        {
          "name": "stdout",
          "output_type": "stream",
          "text": [
            "1000 loops, best of 3: 520 µs per loop\n"
          ]
        }
      ]
    },
    {
      "cell_type": "markdown",
      "metadata": {
        "id": "AEjefay36whe"
      },
      "source": [
        "A métrica µs significa microsegundos."
      ]
    },
    {
      "cell_type": "markdown",
      "metadata": {
        "collapsed": true,
        "id": "ZOgOQ0kC6whe"
      },
      "source": [
        "# Fim"
      ]
    }
  ]
}