{
  "nbformat": 4,
  "nbformat_minor": 0,
  "metadata": {
    "anaconda-cloud": {},
    "kernelspec": {
      "display_name": "Python 3",
      "language": "python",
      "name": "python3"
    },
    "language_info": {
      "codemirror_mode": {
        "name": "ipython",
        "version": 3
      },
      "file_extension": ".py",
      "mimetype": "text/x-python",
      "name": "python",
      "nbconvert_exporter": "python",
      "pygments_lexer": "ipython3",
      "version": "3.6.1"
    },
    "colab": {
      "name": "Operations-using-NumPy.ipynb",
      "provenance": [],
      "include_colab_link": true
    }
  },
  "cells": [
    {
      "cell_type": "markdown",
      "metadata": {
        "id": "view-in-github",
        "colab_type": "text"
      },
      "source": [
        "<a href=\"https://colab.research.google.com/github/lfilipeAndrade/Numpy/blob/main/Operations_using_NumPy.ipynb\" target=\"_parent\"><img src=\"https://colab.research.google.com/assets/colab-badge.svg\" alt=\"Open In Colab\"/></a>"
      ]
    },
    {
      "cell_type": "markdown",
      "metadata": {
        "id": "HVBN8BgFcbUB"
      },
      "source": [
        "## NumPy"
      ]
    },
    {
      "cell_type": "markdown",
      "metadata": {
        "id": "J-j4HelVcbUC"
      },
      "source": [
        "NumPy oferece sequências de elementos que são mais eficientes que sequências padrões em Python."
      ]
    },
    {
      "cell_type": "code",
      "metadata": {
        "id": "pQFFt6RmcbUC"
      },
      "source": [
        "import sys\n",
        "import numpy as np"
      ],
      "execution_count": 3,
      "outputs": []
    },
    {
      "cell_type": "code",
      "metadata": {
        "id": "zAK9NkRJcbUE"
      },
      "source": [
        "# Criando um array NumPy\n",
        "array1 = np.arange(15)"
      ],
      "execution_count": 4,
      "outputs": []
    },
    {
      "cell_type": "code",
      "metadata": {
        "colab": {
          "base_uri": "https://localhost:8080/"
        },
        "id": "_F2FGfRkcbUF",
        "outputId": "a3790615-27b3-45cc-ca25-67bb1463d430"
      },
      "source": [
        "array1"
      ],
      "execution_count": 5,
      "outputs": [
        {
          "output_type": "execute_result",
          "data": {
            "text/plain": [
              "array([ 0,  1,  2,  3,  4,  5,  6,  7,  8,  9, 10, 11, 12, 13, 14])"
            ]
          },
          "metadata": {},
          "execution_count": 5
        }
      ]
    },
    {
      "cell_type": "code",
      "metadata": {
        "collapsed": true,
        "id": "lE7l7csYcbUH"
      },
      "source": [
        "# Help\n",
        "?array1"
      ],
      "execution_count": 6,
      "outputs": []
    },
    {
      "cell_type": "code",
      "metadata": {
        "colab": {
          "base_uri": "https://localhost:8080/"
        },
        "id": "SFuNio-GcbUH",
        "outputId": "9d77472f-f392-4418-b504-6cba5924989e"
      },
      "source": [
        "array1.mean()"
      ],
      "execution_count": 7,
      "outputs": [
        {
          "output_type": "execute_result",
          "data": {
            "text/plain": [
              "7.0"
            ]
          },
          "metadata": {},
          "execution_count": 7
        }
      ]
    },
    {
      "cell_type": "code",
      "metadata": {
        "colab": {
          "base_uri": "https://localhost:8080/"
        },
        "id": "piGTaH9jcbUI",
        "outputId": "2d2da91f-8725-4b35-d045-51c90be1ec3f"
      },
      "source": [
        "array1.sum()"
      ],
      "execution_count": 8,
      "outputs": [
        {
          "output_type": "execute_result",
          "data": {
            "text/plain": [
              "105"
            ]
          },
          "metadata": {},
          "execution_count": 8
        }
      ]
    },
    {
      "cell_type": "code",
      "metadata": {
        "colab": {
          "base_uri": "https://localhost:8080/"
        },
        "id": "0SFZiDvwcbUJ",
        "outputId": "01824578-6131-44b4-c3f8-a906450d8f95"
      },
      "source": [
        "array1.min()"
      ],
      "execution_count": 9,
      "outputs": [
        {
          "output_type": "execute_result",
          "data": {
            "text/plain": [
              "0"
            ]
          },
          "metadata": {},
          "execution_count": 9
        }
      ]
    },
    {
      "cell_type": "code",
      "metadata": {
        "colab": {
          "base_uri": "https://localhost:8080/"
        },
        "id": "ZF2VNH9ecbUJ",
        "outputId": "d6e010cf-17c8-4230-c3e5-07db9befaad3"
      },
      "source": [
        "array1.max()"
      ],
      "execution_count": 10,
      "outputs": [
        {
          "output_type": "execute_result",
          "data": {
            "text/plain": [
              "14"
            ]
          },
          "metadata": {},
          "execution_count": 10
        }
      ]
    },
    {
      "cell_type": "code",
      "metadata": {
        "colab": {
          "base_uri": "https://localhost:8080/"
        },
        "id": "0rqYSOiwcbUJ",
        "outputId": "7dd39665-bc7c-47dd-9cca-98e7de0aa86e"
      },
      "source": [
        "array1.std()"
      ],
      "execution_count": 11,
      "outputs": [
        {
          "output_type": "execute_result",
          "data": {
            "text/plain": [
              "4.320493798938574"
            ]
          },
          "metadata": {},
          "execution_count": 11
        }
      ]
    },
    {
      "cell_type": "markdown",
      "metadata": {
        "id": "7FfjLaEqcbUK"
      },
      "source": [
        "## Utilizando List Compreheension em Arrays NumPy"
      ]
    },
    {
      "cell_type": "code",
      "metadata": {
        "colab": {
          "base_uri": "https://localhost:8080/"
        },
        "id": "95nqwPw5cbUK",
        "outputId": "39df837d-d6de-4617-bc68-2a7858584308"
      },
      "source": [
        "# Utilizando lists compreheension em arrays NumPy\n",
        "[x * x for x in array1]"
      ],
      "execution_count": 12,
      "outputs": [
        {
          "output_type": "execute_result",
          "data": {
            "text/plain": [
              "[0, 1, 4, 9, 16, 25, 36, 49, 64, 81, 100, 121, 144, 169, 196]"
            ]
          },
          "metadata": {},
          "execution_count": 12
        }
      ]
    },
    {
      "cell_type": "code",
      "metadata": {
        "colab": {
          "base_uri": "https://localhost:8080/"
        },
        "id": "-PiL1SN7cbUL",
        "outputId": "8d44e669-0aa2-4b22-d44b-85b33d44c598"
      },
      "source": [
        "# Utilizando lists compreheension em arrays NumPy\n",
        "[x * x for x in array1 if x % 2 == 0]"
      ],
      "execution_count": 13,
      "outputs": [
        {
          "output_type": "execute_result",
          "data": {
            "text/plain": [
              "[0, 4, 16, 36, 64, 100, 144, 196]"
            ]
          },
          "metadata": {},
          "execution_count": 13
        }
      ]
    },
    {
      "cell_type": "markdown",
      "metadata": {
        "id": "hBBaSjZocbUL"
      },
      "source": [
        "## Utilizando Função Lambda em Arrays NumPy"
      ]
    },
    {
      "cell_type": "code",
      "metadata": {
        "colab": {
          "base_uri": "https://localhost:8080/"
        },
        "id": "UeUsnW8DcbUL",
        "outputId": "9dfce1cf-3f5e-40cd-a5e3-4703f02d6a26"
      },
      "source": [
        "# Utilizando expressão lambda\n",
        "list(filter(lambda x: x % 2 == 0, array1))"
      ],
      "execution_count": 14,
      "outputs": [
        {
          "output_type": "execute_result",
          "data": {
            "text/plain": [
              "[0, 2, 4, 6, 8, 10, 12, 14]"
            ]
          },
          "metadata": {},
          "execution_count": 14
        }
      ]
    },
    {
      "cell_type": "code",
      "metadata": {
        "colab": {
          "base_uri": "https://localhost:8080/"
        },
        "id": "i8Lb3LhBcbUM",
        "outputId": "8c2c7b9a-3f57-4144-b284-5ce338da6238"
      },
      "source": [
        "# Atenção com a notação\n",
        "array1 % 2 == 0"
      ],
      "execution_count": 15,
      "outputs": [
        {
          "output_type": "execute_result",
          "data": {
            "text/plain": [
              "array([ True, False,  True, False,  True, False,  True, False,  True,\n",
              "       False,  True, False,  True, False,  True])"
            ]
          },
          "metadata": {},
          "execution_count": 15
        }
      ]
    },
    {
      "cell_type": "code",
      "metadata": {
        "colab": {
          "base_uri": "https://localhost:8080/"
        },
        "id": "mss6UkRpcbUM",
        "outputId": "17c8ab81-cb5c-400e-d5df-49655bcb7ef0"
      },
      "source": [
        "# # Atenção com a notação\n",
        "array1[array1 % 2 == 0]"
      ],
      "execution_count": 16,
      "outputs": [
        {
          "output_type": "execute_result",
          "data": {
            "text/plain": [
              "array([ 0,  2,  4,  6,  8, 10, 12, 14])"
            ]
          },
          "metadata": {},
          "execution_count": 16
        }
      ]
    },
    {
      "cell_type": "markdown",
      "metadata": {
        "id": "j1QMTgljcbUN"
      },
      "source": [
        "## Avaliando a Performance"
      ]
    },
    {
      "cell_type": "code",
      "metadata": {
        "colab": {
          "base_uri": "https://localhost:8080/"
        },
        "id": "Q0PSUI2TcbUN",
        "outputId": "69aa2149-e737-4070-b480-f7d15b03f338"
      },
      "source": [
        "# Performance usando list compreheension\n",
        "%timeit [x for x in array1 if x % 2 == 0]"
      ],
      "execution_count": 17,
      "outputs": [
        {
          "output_type": "stream",
          "name": "stdout",
          "text": [
            "100000 loops, best of 5: 10.1 µs per loop\n"
          ]
        }
      ]
    },
    {
      "cell_type": "code",
      "metadata": {
        "colab": {
          "base_uri": "https://localhost:8080/"
        },
        "id": "487-urDGcbUN",
        "outputId": "a43d7f8d-1242-4ef6-b500-74266d779e86"
      },
      "source": [
        "# Performance usando NumPy\n",
        "%timeit array1[array1 % 2 == 0]"
      ],
      "execution_count": 18,
      "outputs": [
        {
          "output_type": "stream",
          "name": "stdout",
          "text": [
            "The slowest run took 15.70 times longer than the fastest. This could mean that an intermediate result is being cached.\n",
            "100000 loops, best of 5: 2.7 µs per loop\n"
          ]
        }
      ]
    },
    {
      "cell_type": "markdown",
      "metadata": {
        "id": "eu2zlFkFcbUN"
      },
      "source": [
        "## Usando Operadores Lógicos"
      ]
    },
    {
      "cell_type": "code",
      "metadata": {
        "colab": {
          "base_uri": "https://localhost:8080/"
        },
        "id": "2GaSeZSWcbUO",
        "outputId": "f4c9d3bf-0759-4d9c-c185-9f0f10e03f76"
      },
      "source": [
        "array1 > 8"
      ],
      "execution_count": 19,
      "outputs": [
        {
          "output_type": "execute_result",
          "data": {
            "text/plain": [
              "array([False, False, False, False, False, False, False, False, False,\n",
              "        True,  True,  True,  True,  True,  True])"
            ]
          },
          "metadata": {},
          "execution_count": 19
        }
      ]
    },
    {
      "cell_type": "code",
      "metadata": {
        "colab": {
          "base_uri": "https://localhost:8080/"
        },
        "id": "zW7i3DMGcbUO",
        "outputId": "8718bcd3-a52f-438b-ee18-fa312378bcdd"
      },
      "source": [
        "array1[array1 > 8]"
      ],
      "execution_count": 20,
      "outputs": [
        {
          "output_type": "execute_result",
          "data": {
            "text/plain": [
              "array([ 9, 10, 11, 12, 13, 14])"
            ]
          },
          "metadata": {},
          "execution_count": 20
        }
      ]
    },
    {
      "cell_type": "code",
      "metadata": {
        "colab": {
          "base_uri": "https://localhost:8080/"
        },
        "id": "AmTsBIhEcbUO",
        "outputId": "f89bfaa1-1ab6-4e4a-9340-6cdcab36096c"
      },
      "source": [
        "# Operador lógico and \n",
        "(array1 > 9) & (array1 < 12)"
      ],
      "execution_count": 21,
      "outputs": [
        {
          "output_type": "execute_result",
          "data": {
            "text/plain": [
              "array([False, False, False, False, False, False, False, False, False,\n",
              "       False,  True,  True, False, False, False])"
            ]
          },
          "metadata": {},
          "execution_count": 21
        }
      ]
    },
    {
      "cell_type": "code",
      "metadata": {
        "colab": {
          "base_uri": "https://localhost:8080/"
        },
        "id": "SrkUnbB_cbUO",
        "outputId": "8e6351e7-b275-4eb4-ef24-cdb15274137a"
      },
      "source": [
        "# Operador lógico or\n",
        "(array1 > 13) | (array1 < 12)"
      ],
      "execution_count": 22,
      "outputs": [
        {
          "output_type": "execute_result",
          "data": {
            "text/plain": [
              "array([ True,  True,  True,  True,  True,  True,  True,  True,  True,\n",
              "        True,  True,  True, False, False,  True])"
            ]
          },
          "metadata": {},
          "execution_count": 22
        }
      ]
    },
    {
      "cell_type": "code",
      "metadata": {
        "colab": {
          "base_uri": "https://localhost:8080/"
        },
        "id": "oz89RrNKcbUP",
        "outputId": "0ea21d50-1b99-4aed-8efc-04f2ccfd4191"
      },
      "source": [
        "# Operador lógico or\n",
        "array1[(array1 > 13) | (array1 < 12)]"
      ],
      "execution_count": 23,
      "outputs": [
        {
          "output_type": "execute_result",
          "data": {
            "text/plain": [
              "array([ 0,  1,  2,  3,  4,  5,  6,  7,  8,  9, 10, 11, 14])"
            ]
          },
          "metadata": {},
          "execution_count": 23
        }
      ]
    },
    {
      "cell_type": "code",
      "metadata": {
        "collapsed": true,
        "id": "yQvjGgyVcbUP"
      },
      "source": [
        "# Criando um array NumPy com list comprehension\n",
        "array2 = np.array([x ** 3 for x in range(15)])"
      ],
      "execution_count": 24,
      "outputs": []
    },
    {
      "cell_type": "code",
      "metadata": {
        "colab": {
          "base_uri": "https://localhost:8080/"
        },
        "id": "xBZ4jc2LcbUP",
        "outputId": "bf26dc2a-939e-4f99-826b-6cb9e3be69d9"
      },
      "source": [
        "array2"
      ],
      "execution_count": 25,
      "outputs": [
        {
          "output_type": "execute_result",
          "data": {
            "text/plain": [
              "array([   0,    1,    8,   27,   64,  125,  216,  343,  512,  729, 1000,\n",
              "       1331, 1728, 2197, 2744])"
            ]
          },
          "metadata": {},
          "execution_count": 25
        }
      ]
    },
    {
      "cell_type": "code",
      "metadata": {
        "collapsed": true,
        "id": "si7gu_NCcbUP"
      },
      "source": [
        "# Criando um array NumPy com list comprehension\n",
        "array2 = np.array([True for x in range(15)])"
      ],
      "execution_count": 26,
      "outputs": []
    },
    {
      "cell_type": "code",
      "metadata": {
        "colab": {
          "base_uri": "https://localhost:8080/"
        },
        "id": "sYeYtg5ecbUP",
        "outputId": "6e8b820b-ab63-4bba-9ac4-6a38d3a840e5"
      },
      "source": [
        "array2"
      ],
      "execution_count": 27,
      "outputs": [
        {
          "output_type": "execute_result",
          "data": {
            "text/plain": [
              "array([ True,  True,  True,  True,  True,  True,  True,  True,  True,\n",
              "        True,  True,  True,  True,  True,  True])"
            ]
          },
          "metadata": {},
          "execution_count": 27
        }
      ]
    },
    {
      "cell_type": "code",
      "metadata": {
        "colab": {
          "base_uri": "https://localhost:8080/"
        },
        "id": "UcPE061XcbUQ",
        "outputId": "de974269-bc1b-4b0f-fc79-70d53ee85fe9"
      },
      "source": [
        "# Usando um array como índice para outro array\n",
        "array1[array2]"
      ],
      "execution_count": 28,
      "outputs": [
        {
          "output_type": "execute_result",
          "data": {
            "text/plain": [
              "array([ 0,  1,  2,  3,  4,  5,  6,  7,  8,  9, 10, 11, 12, 13, 14])"
            ]
          },
          "metadata": {},
          "execution_count": 28
        }
      ]
    }
  ]
}